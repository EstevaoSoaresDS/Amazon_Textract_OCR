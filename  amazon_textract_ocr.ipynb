{
 "cells": [
  {
   "attachments": {},
   "cell_type": "markdown",
   "metadata": {},
   "source": [
    "# Using Boto3 api for Amazon Texttract OCR Service"
   ]
  },
  {
   "attachments": {},
   "cell_type": "markdown",
   "metadata": {},
   "source": [
    "## Read secret file"
   ]
  },
  {
   "cell_type": "code",
   "execution_count": null,
   "metadata": {},
   "outputs": [],
   "source": [
    "import json\n",
    "with open('./secret_file.json','r') as sf:\n",
    "    secret = json.load(sf)\n",
    "secret"
   ]
  },
  {
   "cell_type": "code",
   "execution_count": 1,
   "metadata": {},
   "outputs": [
    {
     "name": "stdout",
     "output_type": "stream",
     "text": [
      "Requirement already satisfied: boto3 in ./amazon_textract_env/lib/python3.9/site-packages (1.27.0)\n",
      "Requirement already satisfied: botocore<1.31.0,>=1.30.0 in ./amazon_textract_env/lib/python3.9/site-packages (from boto3) (1.30.0)\n",
      "Requirement already satisfied: s3transfer<0.7.0,>=0.6.0 in ./amazon_textract_env/lib/python3.9/site-packages (from boto3) (0.6.1)\n",
      "Requirement already satisfied: jmespath<2.0.0,>=0.7.1 in ./amazon_textract_env/lib/python3.9/site-packages (from boto3) (1.0.1)\n",
      "Requirement already satisfied: urllib3<1.27,>=1.25.4 in ./amazon_textract_env/lib/python3.9/site-packages (from botocore<1.31.0,>=1.30.0->boto3) (1.26.16)\n",
      "Requirement already satisfied: python-dateutil<3.0.0,>=2.1 in ./amazon_textract_env/lib/python3.9/site-packages (from botocore<1.31.0,>=1.30.0->boto3) (2.8.2)\n",
      "Requirement already satisfied: six>=1.5 in ./amazon_textract_env/lib/python3.9/site-packages (from python-dateutil<3.0.0,>=2.1->botocore<1.31.0,>=1.30.0->boto3) (1.16.0)\n",
      "\u001b[33mWARNING: You are using pip version 22.0.4; however, version 23.1.2 is available.\n",
      "You should consider upgrading via the '/home/alien/Desktop/Work/test_natural_language_Higor/amazon_textract_env/bin/python3 -m pip install --upgrade pip' command.\u001b[0m\u001b[33m\n",
      "\u001b[0m"
     ]
    }
   ],
   "source": [
    "! pip install boto3"
   ]
  },
  {
   "cell_type": "code",
   "execution_count": 2,
   "metadata": {},
   "outputs": [],
   "source": [
    "import boto3"
   ]
  },
  {
   "attachments": {},
   "cell_type": "markdown",
   "metadata": {},
   "source": [
    "## Sending image to S3 bucket"
   ]
  },
  {
   "cell_type": "code",
   "execution_count": 6,
   "metadata": {},
   "outputs": [],
   "source": [
    "client_aws_s3 = boto3.client(\n",
    "                             's3',\n",
    "                             **secret\n",
    "                            )"
   ]
  },
  {
   "cell_type": "code",
   "execution_count": 9,
   "metadata": {},
   "outputs": [],
   "source": [
    "file_name = 'time_format_image_0.jpeg'\n",
    "bucket = 'ocramazontextract'\n",
    "image_dir = './image_folder/'"
   ]
  },
  {
   "cell_type": "code",
   "execution_count": null,
   "metadata": {},
   "outputs": [],
   "source": [
    "client_aws_s3.upload_file(image_dir + file_name, bucket , file_name)"
   ]
  },
  {
   "cell_type": "code",
   "execution_count": 11,
   "metadata": {},
   "outputs": [],
   "source": [
    "client_textract = boto3.client(\n",
    "                               'textract',\n",
    "                               **secret\n",
    "                              )"
   ]
  },
  {
   "cell_type": "code",
   "execution_count": 12,
   "metadata": {},
   "outputs": [],
   "source": [
    "response = client_textract.detect_document_text(\n",
    "                                                Document = {\n",
    "                                                          'S3Object': {\n",
    "                                                            'Bucket': bucket,\n",
    "                                                            'Name': file_name\n",
    "                                                        }\n",
    "                                                           }\n",
    "                                               )"
   ]
  },
  {
   "cell_type": "code",
   "execution_count": 13,
   "metadata": {},
   "outputs": [
    {
     "data": {
      "text/plain": [
       "{'DocumentMetadata': {'Pages': 1},\n",
       " 'Blocks': [{'BlockType': 'PAGE',\n",
       "   'Geometry': {'BoundingBox': {'Width': 1.0,\n",
       "     'Height': 1.0,\n",
       "     'Left': 0.0,\n",
       "     'Top': 0.0},\n",
       "    'Polygon': [{'X': 0.0, 'Y': 0.0},\n",
       "     {'X': 1.0, 'Y': 0.0003707503492478281},\n",
       "     {'X': 1.0, 'Y': 1.0},\n",
       "     {'X': 0.00032387435203418136, 'Y': 1.0}]},\n",
       "   'Id': 'd12f76e4-7ed2-4708-8389-41b4170e8287',\n",
       "   'Relationships': [{'Type': 'CHILD',\n",
       "     'Ids': ['1a5a4e20-3419-4f48-bd6e-6744dddf4b86',\n",
       "      '3b4f12ae-91dc-4fc4-b469-d3217f1e4cc5',\n",
       "      '1138656e-7c56-4cf5-a136-9dabf8fd6ff0']}]},\n",
       "  {'BlockType': 'LINE',\n",
       "   'Confidence': 99.39234924316406,\n",
       "   'Text': '00 :',\n",
       "   'Geometry': {'BoundingBox': {'Width': 0.2439344823360443,\n",
       "     'Height': 0.8233481049537659,\n",
       "     'Left': 0.0,\n",
       "     'Top': 0.0},\n",
       "    'Polygon': [{'X': 0.0, 'Y': 0.0},\n",
       "     {'X': 0.23371657729148865, 'Y': 0.0},\n",
       "     {'X': 0.2439344823360443, 'Y': 0.8233481049537659},\n",
       "     {'X': 0.0013914989540353417, 'Y': 0.8017410039901733}]},\n",
       "   'Id': '1a5a4e20-3419-4f48-bd6e-6744dddf4b86',\n",
       "   'Relationships': [{'Type': 'CHILD',\n",
       "     'Ids': ['c057ff69-c3b3-4aa7-b6b8-92ba82107a56',\n",
       "      '4171e0f4-edfc-44d6-a19a-e65abb57f916']}]},\n",
       "  {'BlockType': 'LINE',\n",
       "   'Confidence': 99.14198303222656,\n",
       "   'Text': '00 :',\n",
       "   'Geometry': {'BoundingBox': {'Width': 0.2471543848514557,\n",
       "     'Height': 0.7847362160682678,\n",
       "     'Left': 0.2709808349609375,\n",
       "     'Top': 0.03958709165453911},\n",
       "    'Polygon': [{'X': 0.2709808349609375, 'Y': 0.03958709165453911},\n",
       "     {'X': 0.5088872909545898, 'Y': 0.060812678188085556},\n",
       "     {'X': 0.5181352496147156, 'Y': 0.824323296546936},\n",
       "     {'X': 0.28025221824645996, 'Y': 0.8031303882598877}]},\n",
       "   'Id': '3b4f12ae-91dc-4fc4-b469-d3217f1e4cc5',\n",
       "   'Relationships': [{'Type': 'CHILD',\n",
       "     'Ids': ['8cdcce05-cf0c-4615-82c5-14ed24e41ed8',\n",
       "      'dff2b68a-5e71-45f4-a384-ab80f9aa81e3']}]},\n",
       "  {'BlockType': 'LINE',\n",
       "   'Confidence': 97.59950256347656,\n",
       "   'Text': '02;13',\n",
       "   'Geometry': {'BoundingBox': {'Width': 0.4550887644290924,\n",
       "     'Height': 0.9464227557182312,\n",
       "     'Left': 0.5435014963150024,\n",
       "     'Top': 0.0},\n",
       "    'Polygon': [{'X': 0.5435014963150024, 'Y': 0.0},\n",
       "     {'X': 0.9876254796981812, 'Y': 0.036603253334760666},\n",
       "     {'X': 0.9985902309417725, 'Y': 0.9464227557182312},\n",
       "     {'X': 0.5545183420181274, 'Y': 0.9068665504455566}]},\n",
       "   'Id': '1138656e-7c56-4cf5-a136-9dabf8fd6ff0',\n",
       "   'Relationships': [{'Type': 'CHILD',\n",
       "     'Ids': ['6f06ac16-0768-4a2c-ae40-655095cfb12b']}]},\n",
       "  {'BlockType': 'WORD',\n",
       "   'Confidence': 99.54181671142578,\n",
       "   'Text': '00',\n",
       "   'TextType': 'PRINTED',\n",
       "   'Geometry': {'BoundingBox': {'Width': 0.1837732046842575,\n",
       "     'Height': 0.8179886341094971,\n",
       "     'Left': 0.0,\n",
       "     'Top': 0.0},\n",
       "    'Polygon': [{'X': 0.0, 'Y': 0.0},\n",
       "     {'X': 0.17354877293109894, 'Y': 0.0},\n",
       "     {'X': 0.1837732046842575, 'Y': 0.8179886341094971},\n",
       "     {'X': 0.0013914989540353417, 'Y': 0.8017410039901733}]},\n",
       "   'Id': 'c057ff69-c3b3-4aa7-b6b8-92ba82107a56'},\n",
       "  {'BlockType': 'WORD',\n",
       "   'Confidence': 99.24287414550781,\n",
       "   'Text': ':',\n",
       "   'TextType': 'PRINTED',\n",
       "   'Geometry': {'BoundingBox': {'Width': 0.039262209087610245,\n",
       "     'Height': 0.5626440048217773,\n",
       "     'Left': 0.20439311861991882,\n",
       "     'Top': 0.23772406578063965},\n",
       "    'Polygon': [{'X': 0.20439311861991882, 'Y': 0.23772406578063965},\n",
       "     {'X': 0.23685595393180847, 'Y': 0.2406192123889923},\n",
       "     {'X': 0.24365533888339996, 'Y': 0.800368070602417},\n",
       "     {'X': 0.21119485795497894, 'Y': 0.7974761724472046}]},\n",
       "   'Id': '4171e0f4-edfc-44d6-a19a-e65abb57f916'},\n",
       "  {'BlockType': 'WORD',\n",
       "   'Confidence': 98.86666870117188,\n",
       "   'Text': '00',\n",
       "   'TextType': 'PRINTED',\n",
       "   'Geometry': {'BoundingBox': {'Width': 0.18258900940418243,\n",
       "     'Height': 0.7789840698242188,\n",
       "     'Left': 0.2709808349609375,\n",
       "     'Top': 0.03958709165453911},\n",
       "    'Polygon': [{'X': 0.2709808349609375, 'Y': 0.03958709165453911},\n",
       "     {'X': 0.4443155527114868, 'Y': 0.05505170673131943},\n",
       "     {'X': 0.45356985926628113, 'Y': 0.8185712099075317},\n",
       "     {'X': 0.28025221824645996, 'Y': 0.8031303882598877}]},\n",
       "   'Id': '8cdcce05-cf0c-4615-82c5-14ed24e41ed8'},\n",
       "  {'BlockType': 'WORD',\n",
       "   'Confidence': 99.41730499267578,\n",
       "   'Text': ':',\n",
       "   'TextType': 'PRINTED',\n",
       "   'Geometry': {'BoundingBox': {'Width': 0.038145653903484344,\n",
       "     'Height': 0.555247962474823,\n",
       "     'Left': 0.4796544313430786,\n",
       "     'Top': 0.2414051741361618},\n",
       "    'Polygon': [{'X': 0.4796544313430786, 'Y': 0.2414051741361618},\n",
       "     {'X': 0.5111086964607239, 'Y': 0.24421049654483795},\n",
       "     {'X': 0.5178000926971436, 'Y': 0.796653151512146},\n",
       "     {'X': 0.48634806275367737, 'Y': 0.7938509583473206}]},\n",
       "   'Id': 'dff2b68a-5e71-45f4-a384-ab80f9aa81e3'},\n",
       "  {'BlockType': 'WORD',\n",
       "   'Confidence': 97.59950256347656,\n",
       "   'Text': '02;13',\n",
       "   'TextType': 'PRINTED',\n",
       "   'Geometry': {'BoundingBox': {'Width': 0.4550887644290924,\n",
       "     'Height': 0.9464227557182312,\n",
       "     'Left': 0.5435014963150024,\n",
       "     'Top': 0.0},\n",
       "    'Polygon': [{'X': 0.5435014963150024, 'Y': 0.0},\n",
       "     {'X': 0.9876254796981812, 'Y': 0.036603253334760666},\n",
       "     {'X': 0.9985902309417725, 'Y': 0.9464227557182312},\n",
       "     {'X': 0.5545183420181274, 'Y': 0.9068665504455566}]},\n",
       "   'Id': '6f06ac16-0768-4a2c-ae40-655095cfb12b'}],\n",
       " 'DetectDocumentTextModelVersion': '1.0',\n",
       " 'ResponseMetadata': {'RequestId': '78420c5c-2991-439e-b87e-5421af11c1e7',\n",
       "  'HTTPStatusCode': 200,\n",
       "  'HTTPHeaders': {'x-amzn-requestid': '78420c5c-2991-439e-b87e-5421af11c1e7',\n",
       "   'content-type': 'application/x-amz-json-1.1',\n",
       "   'content-length': '4336',\n",
       "   'date': 'Mon, 03 Jul 2023 22:02:10 GMT'},\n",
       "  'RetryAttempts': 0}}"
      ]
     },
     "execution_count": 13,
     "metadata": {},
     "output_type": "execute_result"
    }
   ],
   "source": [
    "response"
   ]
  },
  {
   "cell_type": "code",
   "execution_count": 14,
   "metadata": {},
   "outputs": [
    {
     "data": {
      "text/plain": [
       "dict_keys(['DocumentMetadata', 'Blocks', 'DetectDocumentTextModelVersion', 'ResponseMetadata'])"
      ]
     },
     "execution_count": 14,
     "metadata": {},
     "output_type": "execute_result"
    }
   ],
   "source": [
    "response.keys()"
   ]
  },
  {
   "cell_type": "code",
   "execution_count": 21,
   "metadata": {},
   "outputs": [
    {
     "data": {
      "text/plain": [
       "(['00 :', '00 :', '02;13'], ['00', ':', '00', ':', '02;13'])"
      ]
     },
     "execution_count": 21,
     "metadata": {},
     "output_type": "execute_result"
    }
   ],
   "source": [
    "segment_by_line = list()\n",
    "segment_by_word = list()\n",
    "for text_item_dict in response['Blocks']:\n",
    "    keys_text_item_dict = text_item_dict.keys()\n",
    "    if 'Text' in keys_text_item_dict:\n",
    "        if text_item_dict['BlockType'] == 'LINE':\n",
    "            segment_by_line.append(text_item_dict['Text'])\n",
    "        elif text_item_dict['BlockType'] == 'WORD':\n",
    "            segment_by_word.append(text_item_dict['Text'])\n",
    "segment_by_line,segment_by_word"
   ]
  },
  {
   "cell_type": "code",
   "execution_count": null,
   "metadata": {},
   "outputs": [],
   "source": []
  }
 ],
 "metadata": {
  "kernelspec": {
   "display_name": "amazon_textract_env",
   "language": "python",
   "name": "python3"
  },
  "language_info": {
   "codemirror_mode": {
    "name": "ipython",
    "version": 3
   },
   "file_extension": ".py",
   "mimetype": "text/x-python",
   "name": "python",
   "nbconvert_exporter": "python",
   "pygments_lexer": "ipython3",
   "version": "3.9.12"
  },
  "orig_nbformat": 4
 },
 "nbformat": 4,
 "nbformat_minor": 2
}
